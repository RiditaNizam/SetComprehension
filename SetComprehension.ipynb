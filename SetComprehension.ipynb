{
  "nbformat": 4,
  "nbformat_minor": 0,
  "metadata": {
    "colab": {
      "name": "SetComprehension.ipynb",
      "provenance": [],
      "collapsed_sections": [],
      "mount_file_id": "16-PkvY8dp6AqHmnGNLB1Npd9DRIobtHi",
      "authorship_tag": "ABX9TyNUBTIWr6jrDLmAlaP0CklW",
      "include_colab_link": true
    },
    "kernelspec": {
      "name": "python3",
      "display_name": "Python 3"
    },
    "language_info": {
      "name": "python"
    }
  },
  "cells": [
    {
      "cell_type": "markdown",
      "metadata": {
        "id": "view-in-github",
        "colab_type": "text"
      },
      "source": [
        "<a href=\"https://colab.research.google.com/github/RiditaNizam/SetComprehension/blob/main/SetComprehension.ipynb\" target=\"_parent\"><img src=\"https://colab.research.google.com/assets/colab-badge.svg\" alt=\"Open In Colab\"/></a>"
      ]
    },
    {
      "cell_type": "code",
      "metadata": {
        "id": "B62jYyqk7EQt",
        "colab": {
          "base_uri": "https://localhost:8080/"
        },
        "outputId": "1d7f37ba-19dd-49c5-cb86-79cd6c60cd66"
      },
      "source": [
        "even_numbers = set()\n",
        "\n",
        "print(\"Just using a for loop\")\n",
        "for number in range(1, 21):\n",
        "  if number % 2 == 0:\n",
        "    even_numbers.add(number)\n",
        "print(even_numbers)\n",
        "\n",
        "print(\"\\n\")\n",
        "\n",
        "print(\"Using set comprehension\")\n",
        "#Write the for loop first, and then add \"number\" in the beginning\n",
        "evens_set_comp = {number for number in range(1, 21) if number % 2 == 0}\n",
        "print(evens_set_comp)"
      ],
      "execution_count": null,
      "outputs": [
        {
          "output_type": "stream",
          "text": [
            "Just using a for loop\n",
            "{2, 4, 6, 8, 10, 12, 14, 16, 18, 20}\n",
            "\n",
            "\n",
            "Using set comprehension\n",
            "{2, 4, 6, 8, 10, 12, 14, 16, 18, 20}\n"
          ],
          "name": "stdout"
        }
      ]
    }
  ]
}